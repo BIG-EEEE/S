{
 "cells": [
  {
   "cell_type": "code",
   "execution_count": 12,
   "id": "c24f7147-9f35-4bbf-bbac-8305d0b2bfa9",
   "metadata": {},
   "outputs": [
    {
     "name": "stdout",
     "output_type": "stream",
     "text": [
      "  Location  Pearson Correlation   P-value  R-squared\n",
      "0     Bole             0.434608  0.043256   0.188884\n",
      "1    Tolon             0.781477  0.000018   0.610706\n",
      "2   Kasena             0.033935  0.880828   0.001152\n",
      "3       Wa             0.015265  0.946243   0.000233\n",
      "4   Nandom             0.749979  0.000058   0.562469\n"
     ]
    }
   ],
   "source": [
    "import pandas as pd\n",
    "from scipy.stats import pearsonr\n",
    "import statsmodels.api as sm\n",
    "\n",
    "# Data\n",
    "data = {\n",
    "    'Year': list(range(1995, 2017)),\n",
    "    'Bole': [0.95, 0.80, 0.70, 0.70, 0.80, 1.00, 0.10, 0.70, 1.00, 1.00, 2.73, 0.96, 0.90, 1.00, 1.20, 1.30, 1.05, 1.13, 1.11, 1.23, 1.27, 1.71],\n",
    "    'Tolon': [0.95, 0.70, 0.57, 0.60, 0.70, 0.80, 0.60, 0.48, 0.56, 0.56, 1.60, 0.88, 0.54, 1.20, 1.80, 1.90, 1.70, 1.70, 1.68, 1.43, 1.47, 2.25],\n",
    "    'Kasena': [0.98, 1.13, 0.48, 0.71, 0.75, 0.79, 0.83, 0.64, 0.62, 0.88, 1.02, 0.70, 0.56, 1.26, 1.38, 0.90, 0.80, 1.11, 0.60, 0.56, 0.80, 0.80],\n",
    "    'Wa': [1.20, 1.10, 1.12, 1.10, 1.03, 1.00, 0.90, 0.90, 0.90, 1.03, 0.50, 0.36, 1.04, 1.58, 1.40, 1.20, 1.04, 1.00, 0.97, 0.98, 0.98, 1.11],\n",
    "    'Nandom': [0.99, 0.70, 0.60, 0.60, 0.70, 0.50, 0.30, 0.60, 1.00, 1.00, 0.61, 0.46, 0.50, 1.40, 1.60, 1.62, 1.45, 1.50, 1.48, 1.45, 1.49, 1.49]\n",
    "}\n",
    "\n",
    "# Convert to DataFrame\n",
    "df = pd.DataFrame(data)\n",
    "\n",
    "# Initialize dictionary to store results\n",
    "results = {\n",
    "    'Location': [],\n",
    "    'Pearson Correlation': [],\n",
    "    'P-value': [],\n",
    "    'R-squared': []\n",
    "}\n",
    "\n",
    "# Calculate correlations and p-values\n",
    "locations = ['Bole', 'Tolon', 'Kasena', 'Wa', 'Nandom']\n",
    "for loc in locations:\n",
    "    pearson_corr, p_value = pearsonr(df['Year'], df[loc])\n",
    "    model = sm.OLS(df[loc], sm.add_constant(df['Year'])).fit()\n",
    "    r_squared = model.rsquared\n",
    "    \n",
    "    results['Location'].append(loc)\n",
    "    results['Pearson Correlation'].append(pearson_corr)\n",
    "    results['P-value'].append(p_value)\n",
    "    results['R-squared'].append(r_squared)\n",
    "\n",
    "# Convert results to DataFrame\n",
    "results_df = pd.DataFrame(results)\n",
    "print(results_df)\n"
   ]
  },
  {
   "cell_type": "code",
   "execution_count": 13,
   "id": "ce783930-d096-4297-bf6d-3d02c484d56e",
   "metadata": {},
   "outputs": [],
   "source": [
    "results_df.to_csv('final.csv')"
   ]
  },
  {
   "cell_type": "code",
   "execution_count": 14,
   "id": "2d01ba60-3b49-41af-8b8d-ae78ca8ecfd9",
   "metadata": {},
   "outputs": [
    {
     "data": {
      "text/html": [
       "<div>\n",
       "<style scoped>\n",
       "    .dataframe tbody tr th:only-of-type {\n",
       "        vertical-align: middle;\n",
       "    }\n",
       "\n",
       "    .dataframe tbody tr th {\n",
       "        vertical-align: top;\n",
       "    }\n",
       "\n",
       "    .dataframe thead th {\n",
       "        text-align: right;\n",
       "    }\n",
       "</style>\n",
       "<table border=\"1\" class=\"dataframe\">\n",
       "  <thead>\n",
       "    <tr style=\"text-align: right;\">\n",
       "      <th></th>\n",
       "      <th>Unnamed: 0</th>\n",
       "      <th>Location</th>\n",
       "      <th>Pearson Correlation</th>\n",
       "      <th>P-value</th>\n",
       "      <th>R-squared</th>\n",
       "    </tr>\n",
       "  </thead>\n",
       "  <tbody>\n",
       "    <tr>\n",
       "      <th>0</th>\n",
       "      <td>0</td>\n",
       "      <td>Bole</td>\n",
       "      <td>0.434608</td>\n",
       "      <td>0.043256</td>\n",
       "      <td>0.188884</td>\n",
       "    </tr>\n",
       "    <tr>\n",
       "      <th>1</th>\n",
       "      <td>1</td>\n",
       "      <td>Tolon</td>\n",
       "      <td>0.781477</td>\n",
       "      <td>0.000018</td>\n",
       "      <td>0.610706</td>\n",
       "    </tr>\n",
       "    <tr>\n",
       "      <th>2</th>\n",
       "      <td>2</td>\n",
       "      <td>Kasena</td>\n",
       "      <td>0.033935</td>\n",
       "      <td>0.880828</td>\n",
       "      <td>0.001152</td>\n",
       "    </tr>\n",
       "    <tr>\n",
       "      <th>3</th>\n",
       "      <td>3</td>\n",
       "      <td>Wa</td>\n",
       "      <td>0.015265</td>\n",
       "      <td>0.946243</td>\n",
       "      <td>0.000233</td>\n",
       "    </tr>\n",
       "    <tr>\n",
       "      <th>4</th>\n",
       "      <td>4</td>\n",
       "      <td>Nandom</td>\n",
       "      <td>0.749979</td>\n",
       "      <td>0.000058</td>\n",
       "      <td>0.562469</td>\n",
       "    </tr>\n",
       "  </tbody>\n",
       "</table>\n",
       "</div>"
      ],
      "text/plain": [
       "   Unnamed: 0 Location  Pearson Correlation   P-value  R-squared\n",
       "0           0     Bole             0.434608  0.043256   0.188884\n",
       "1           1    Tolon             0.781477  0.000018   0.610706\n",
       "2           2   Kasena             0.033935  0.880828   0.001152\n",
       "3           3       Wa             0.015265  0.946243   0.000233\n",
       "4           4   Nandom             0.749979  0.000058   0.562469"
      ]
     },
     "execution_count": 14,
     "metadata": {},
     "output_type": "execute_result"
    }
   ],
   "source": [
    "data= pd.read_csv('final.csv')\n",
    "data"
   ]
  }
 ],
 "metadata": {
  "kernelspec": {
   "display_name": "Python 3 (ipykernel)",
   "language": "python",
   "name": "python3"
  },
  "language_info": {
   "codemirror_mode": {
    "name": "ipython",
    "version": 3
   },
   "file_extension": ".py",
   "mimetype": "text/x-python",
   "name": "python",
   "nbconvert_exporter": "python",
   "pygments_lexer": "ipython3",
   "version": "3.9.19"
  }
 },
 "nbformat": 4,
 "nbformat_minor": 5
}
